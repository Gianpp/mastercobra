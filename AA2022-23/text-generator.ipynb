{
 "cells": [
  {
   "cell_type": "markdown",
   "id": "4f28062b",
   "metadata": {},
   "source": [
    "# Text generator\n",
    "\n",
    "## Word Generator\n",
    "\n",
    "### Requisiti\n",
    "- alfabeto\n",
    "- vocabolario (regole per decidere se una parola è corretta)\n",
    "- un processo di selezione casuale\n",
    "\n",
    "### Procedura\n",
    "- estrai $N$ lettere da $A$\n",
    "- memorizza lettere in $W$\n",
    "\n",
    "### Stutture dati\n",
    "- $N$ = numero intero\n",
    "- $A$ = collezione di caratteri\n",
    "- $W$ = stringa"
   ]
  },
  {
   "cell_type": "code",
   "execution_count": 1,
   "id": "0f36f6d7",
   "metadata": {},
   "outputs": [],
   "source": [
    "from string import ascii_lowercase\n",
    "import numpy as np"
   ]
  },
  {
   "cell_type": "code",
   "execution_count": 2,
   "id": "8ee47f49",
   "metadata": {},
   "outputs": [],
   "source": [
    "from utils import CharIndex"
   ]
  },
  {
   "cell_type": "code",
   "execution_count": 3,
   "id": "83430e85",
   "metadata": {},
   "outputs": [],
   "source": [
    "idx = CharIndex(min_char=0)"
   ]
  },
  {
   "cell_type": "code",
   "execution_count": 4,
   "id": "6ab32b75",
   "metadata": {},
   "outputs": [],
   "source": [
    "filename = '/Users/flint/Data/italian-texts/i_promessi sposi.txt'"
   ]
  },
  {
   "cell_type": "code",
   "execution_count": 5,
   "id": "67a191b7",
   "metadata": {},
   "outputs": [],
   "source": [
    "idx.index_text(filename)"
   ]
  },
  {
   "cell_type": "markdown",
   "id": "e8b9a6ab",
   "metadata": {},
   "source": [
    "## Generate text with index"
   ]
  },
  {
   "cell_type": "code",
   "execution_count": 6,
   "id": "338610fc",
   "metadata": {},
   "outputs": [],
   "source": [
    "from string import punctuation"
   ]
  },
  {
   "cell_type": "code",
   "execution_count": 7,
   "id": "a7380ff5",
   "metadata": {},
   "outputs": [],
   "source": [
    "alpha = idx.vocabulary\n",
    "p = [idx.p(x) for x in alpha]"
   ]
  },
  {
   "cell_type": "code",
   "execution_count": 8,
   "id": "91aba2b1",
   "metadata": {},
   "outputs": [],
   "source": [
    "def generate():\n",
    "    word, char = [], 'x'\n",
    "    while char not in punctuation + ' ':\n",
    "        char = np.random.choice(alpha, p=p)\n",
    "        word.append(char)\n",
    "    return \"\".join(word)"
   ]
  },
  {
   "cell_type": "code",
   "execution_count": 9,
   "id": "2bfdc212",
   "metadata": {},
   "outputs": [],
   "source": [
    "n_words = 0\n",
    "for char, count in idx.index.items():\n",
    "    if char in punctuation + ' ':\n",
    "        n_words += count"
   ]
  },
  {
   "cell_type": "code",
   "execution_count": 10,
   "id": "7f24bc0b",
   "metadata": {},
   "outputs": [],
   "source": [
    "fake_promessi_sposi = [generate() for x in range(n_words)]"
   ]
  },
  {
   "cell_type": "code",
   "execution_count": 11,
   "id": "9fc1ebf1",
   "metadata": {},
   "outputs": [],
   "source": [
    "clean_fake_promessi_sposi = [x for x in fake_promessi_sposi if len(x) > 1]"
   ]
  },
  {
   "cell_type": "code",
   "execution_count": 12,
   "id": "1a1fe633",
   "metadata": {},
   "outputs": [],
   "source": [
    "new_text = \"\".join(clean_fake_promessi_sposi)"
   ]
  },
  {
   "cell_type": "code",
   "execution_count": 13,
   "id": "0453c8c0",
   "metadata": {},
   "outputs": [],
   "source": [
    "with open('/Users/flint/Data/italian-texts/fake_promessi_sposi.txt', 'w') as fake:\n",
    "    fake.write(new_text)"
   ]
  },
  {
   "cell_type": "code",
   "execution_count": 14,
   "id": "383da2e9",
   "metadata": {},
   "outputs": [
    {
     "data": {
      "text/plain": [
       "'rrrarit '"
      ]
     },
     "execution_count": 14,
     "metadata": {},
     "output_type": "execute_result"
    }
   ],
   "source": [
    "generate()"
   ]
  },
  {
   "cell_type": "markdown",
   "id": "e033f78c",
   "metadata": {},
   "source": [
    "## Pandas"
   ]
  },
  {
   "cell_type": "code",
   "execution_count": 15,
   "id": "de6b4c69",
   "metadata": {},
   "outputs": [],
   "source": [
    "import pandas as pd"
   ]
  },
  {
   "cell_type": "code",
   "execution_count": 16,
   "id": "0d821935",
   "metadata": {},
   "outputs": [],
   "source": [
    "true_file = '/Users/flint/Data/italian-texts/i_promessi sposi.txt'\n",
    "fake_file = '/Users/flint/Data/italian-texts/fake_promessi_sposi.txt'"
   ]
  },
  {
   "cell_type": "code",
   "execution_count": 17,
   "id": "4bd0288e",
   "metadata": {},
   "outputs": [],
   "source": [
    "Tidx = CharIndex(min_char=0)\n",
    "Fidx = CharIndex(min_char=0)\n",
    "Tidx.index_text(true_file)\n",
    "Fidx.index_text(fake_file)"
   ]
  },
  {
   "cell_type": "code",
   "execution_count": 18,
   "id": "286daeb7",
   "metadata": {},
   "outputs": [],
   "source": [
    "df = pd.DataFrame([pd.Series(Tidx.index), pd.Series(Fidx.index)]).T\n",
    "df.columns = ['TRUE', 'FAKE']"
   ]
  },
  {
   "cell_type": "code",
   "execution_count": 19,
   "id": "4f393ec4",
   "metadata": {},
   "outputs": [],
   "source": [
    "df['TOT'] = df.sum(axis=1)"
   ]
  },
  {
   "cell_type": "code",
   "execution_count": 20,
   "id": "5417331a",
   "metadata": {},
   "outputs": [],
   "source": [
    "def p(char, dataset):\n",
    "    count = df.loc[char][dataset]\n",
    "    den = df.sum()[dataset]\n",
    "    return count / den"
   ]
  },
  {
   "cell_type": "markdown",
   "id": "34b80bee",
   "metadata": {},
   "source": [
    "**KL divergence**\n",
    "\n",
    "$$\n",
    "kl(w) = p(w)\\log \\frac{p(w)}{q(w)}\n",
    "$$"
   ]
  },
  {
   "cell_type": "code",
   "execution_count": 21,
   "id": "a3fa6ed2",
   "metadata": {},
   "outputs": [],
   "source": [
    "def kl(w, dataset):\n",
    "    p_w = p(w, dataset)\n",
    "    q_w = p(w, 'TOT')\n",
    "    return p_w * np.log(p_w / q_w)"
   ]
  },
  {
   "cell_type": "code",
   "execution_count": 22,
   "id": "c9573692",
   "metadata": {},
   "outputs": [
    {
     "data": {
      "text/plain": [
       "-0.0006100058264795884"
      ]
     },
     "execution_count": 22,
     "metadata": {},
     "output_type": "execute_result"
    }
   ],
   "source": [
    "kl('.', 'FAKE')"
   ]
  },
  {
   "cell_type": "markdown",
   "id": "646a7cf9",
   "metadata": {},
   "source": [
    "## Miglioramento del processo di generazione\n",
    "- lunghezza parole: parametrizzare la probabilità del carattere di terminazione sulla lunghezza reale delle parole in una lingua\n",
    "- gestire la generazione di numeri casuali con distribuzioni date (no uniformità)\n",
    "- abbandonare l'assunzione di indipendenza"
   ]
  },
  {
   "cell_type": "markdown",
   "id": "d7e592cd",
   "metadata": {},
   "source": [
    "### Assunzione di indipendenza\n",
    "\n",
    "$$\n",
    "p(c_1) \\cdot p(c_2) \\cdot p(c_3) \\dots\n",
    "$$\n",
    "\n",
    "$$\n",
    "p(c_n \\mid c_1, \\dots, c_{n-1} )\n",
    "$$\n",
    "\n",
    "$$\n",
    "p(c) = \\frac{count(c)}{\\sum\\limits_{k} count(k}\n",
    "$$\n",
    "\n",
    "$$\n",
    "p(c_n \\mid c_1, \\dots, c_{n-1} ) = \\frac{count(c_1, \\dots, c_{n})}{\n",
    "count(c_1, \\dots, c_{n-1})}\n",
    "$$\n",
    "\n",
    "$$\n",
    "p(c_1) \\cdot p(c_2 \\mid c_1) \\cdot p(c_3 \\mid c_1, c_2) \\dots\n",
    "p(c_4 \\mid c_1, c_2, c_3)\n",
    "$$\n",
    "\n",
    "$$\n",
    "p(c_1) \\cdot p(c_2 \\mid c_1) \\cdot p(c_3 \\mid c_1, c_2) \\dots\n",
    "p(c_4 \\mid c_2, c_3)\n",
    "$$"
   ]
  },
  {
   "cell_type": "code",
   "execution_count": 23,
   "id": "cc5266d1",
   "metadata": {},
   "outputs": [],
   "source": [
    "unigram = {'c': 4}"
   ]
  },
  {
   "cell_type": "code",
   "execution_count": null,
   "id": "f5c98b5b",
   "metadata": {},
   "outputs": [],
   "source": [
    "bigram = {\n",
    "    'a': {\n",
    "        'a': 0,\n",
    "        'b': 2\n",
    "    }\n",
    "}"
   ]
  },
  {
   "cell_type": "code",
   "execution_count": null,
   "id": "239fee58",
   "metadata": {},
   "outputs": [],
   "source": [
    "trigram = {\n",
    "    'a': {\n",
    "        'a': {\n",
    "            'a': 0,\n",
    "            'b': 2\n",
    "        },\n",
    "    }\n",
    "}"
   ]
  }
 ],
 "metadata": {
  "kernelspec": {
   "display_name": "crike",
   "language": "python",
   "name": "crike"
  },
  "language_info": {
   "codemirror_mode": {
    "name": "ipython",
    "version": 3
   },
   "file_extension": ".py",
   "mimetype": "text/x-python",
   "name": "python",
   "nbconvert_exporter": "python",
   "pygments_lexer": "ipython3",
   "version": "3.8.8"
  },
  "toc": {
   "base_numbering": 1,
   "nav_menu": {},
   "number_sections": true,
   "sideBar": true,
   "skip_h1_title": false,
   "title_cell": "Table of Contents",
   "title_sidebar": "Contents",
   "toc_cell": false,
   "toc_position": {},
   "toc_section_display": true,
   "toc_window_display": false
  }
 },
 "nbformat": 4,
 "nbformat_minor": 5
}
