{
 "cells": [
  {
   "cell_type": "markdown",
   "id": "af24b898",
   "metadata": {},
   "source": [
    "# Implementazione di modelli n-gram del testo usando un DB SQL come supporto"
   ]
  },
  {
   "cell_type": "code",
   "execution_count": 1,
   "id": "c7bc0247",
   "metadata": {},
   "outputs": [],
   "source": [
    "import pandas as pd\n",
    "import numpy as np\n",
    "from tqdm.notebook import tqdm"
   ]
  },
  {
   "cell_type": "code",
   "execution_count": 2,
   "id": "07c0c610",
   "metadata": {},
   "outputs": [],
   "source": [
    "from sqlalchemy import create_engine"
   ]
  },
  {
   "cell_type": "code",
   "execution_count": 3,
   "id": "7bd794af",
   "metadata": {},
   "outputs": [],
   "source": [
    "engine = create_engine(\"sqlite:///ngram.db\")"
   ]
  },
  {
   "cell_type": "markdown",
   "id": "295ab395",
   "metadata": {},
   "source": [
    "## Unigram model"
   ]
  },
  {
   "cell_type": "code",
   "execution_count": 4,
   "id": "9ff9142b",
   "metadata": {},
   "outputs": [],
   "source": [
    "from utils import CharIndex"
   ]
  },
  {
   "cell_type": "code",
   "execution_count": 5,
   "id": "2e43615f",
   "metadata": {},
   "outputs": [],
   "source": [
    "filename = '/Users/flint/Data/italian-texts/i_promessi sposi.txt'"
   ]
  },
  {
   "cell_type": "code",
   "execution_count": 6,
   "id": "2b330c7b",
   "metadata": {},
   "outputs": [],
   "source": [
    "idx = CharIndex(min_char=0)"
   ]
  },
  {
   "cell_type": "code",
   "execution_count": 7,
   "id": "46cf7fb9",
   "metadata": {},
   "outputs": [],
   "source": [
    "idx.index_text(filename)"
   ]
  },
  {
   "cell_type": "code",
   "execution_count": 8,
   "id": "8716fc00",
   "metadata": {},
   "outputs": [
    {
     "data": {
      "text/plain": [
       "0.005949720734410058"
      ]
     },
     "execution_count": 8,
     "metadata": {},
     "output_type": "execute_result"
    }
   ],
   "source": [
    "idx.index['z'] / sum(idx.index.values())"
   ]
  },
  {
   "cell_type": "code",
   "execution_count": 9,
   "id": "e07000a4",
   "metadata": {},
   "outputs": [],
   "source": [
    "unigram_df = pd.DataFrame([{'lettera': c, 'counter': w} for c, w in idx.index.items()])"
   ]
  },
  {
   "cell_type": "code",
   "execution_count": 10,
   "id": "c495c110",
   "metadata": {},
   "outputs": [],
   "source": [
    "unigram_df.to_excel('unigram.xlsx')"
   ]
  },
  {
   "cell_type": "code",
   "execution_count": 11,
   "id": "319ab82b",
   "metadata": {},
   "outputs": [
    {
     "data": {
      "text/plain": [
       "87"
      ]
     },
     "execution_count": 11,
     "metadata": {},
     "output_type": "execute_result"
    }
   ],
   "source": [
    "unigram_df.to_sql('unigram', engine, index=False, if_exists='replace')"
   ]
  },
  {
   "cell_type": "markdown",
   "id": "42f145fa",
   "metadata": {},
   "source": [
    "### Query"
   ]
  },
  {
   "cell_type": "code",
   "execution_count": 12,
   "id": "28a9bd87",
   "metadata": {},
   "outputs": [],
   "source": [
    "sql = \"\"\"\n",
    "WITH total AS (\n",
    "    SELECT SUM(U.counter) AS total\n",
    "    FROM main.unigram AS U\n",
    ")\n",
    "SELECT U.lettera, U.counter, T.total, CAST(U.counter AS FLOAT) / T.total AS prob\n",
    "FROM main.unigram AS U, total AS T\n",
    "\"\"\""
   ]
  },
  {
   "cell_type": "code",
   "execution_count": 13,
   "id": "ed338462",
   "metadata": {},
   "outputs": [],
   "source": [
    "probs = pd.read_sql(sql, engine, index_col='lettera')"
   ]
  },
  {
   "cell_type": "code",
   "execution_count": 14,
   "id": "95c6b7d6",
   "metadata": {},
   "outputs": [
    {
     "data": {
      "text/html": [
       "<div>\n",
       "<style scoped>\n",
       "    .dataframe tbody tr th:only-of-type {\n",
       "        vertical-align: middle;\n",
       "    }\n",
       "\n",
       "    .dataframe tbody tr th {\n",
       "        vertical-align: top;\n",
       "    }\n",
       "\n",
       "    .dataframe thead th {\n",
       "        text-align: right;\n",
       "    }\n",
       "</style>\n",
       "<table border=\"1\" class=\"dataframe\">\n",
       "  <thead>\n",
       "    <tr style=\"text-align: right;\">\n",
       "      <th></th>\n",
       "      <th>counter</th>\n",
       "      <th>total</th>\n",
       "      <th>prob</th>\n",
       "    </tr>\n",
       "    <tr>\n",
       "      <th>lettera</th>\n",
       "      <th></th>\n",
       "      <th></th>\n",
       "      <th></th>\n",
       "    </tr>\n",
       "  </thead>\n",
       "  <tbody>\n",
       "    <tr>\n",
       "      <th>A</th>\n",
       "      <td>1298</td>\n",
       "      <td>1308969</td>\n",
       "      <td>9.916201e-04</td>\n",
       "    </tr>\n",
       "    <tr>\n",
       "      <th>l</th>\n",
       "      <td>56023</td>\n",
       "      <td>1308969</td>\n",
       "      <td>4.279933e-02</td>\n",
       "    </tr>\n",
       "    <tr>\n",
       "      <th>e</th>\n",
       "      <td>120014</td>\n",
       "      <td>1308969</td>\n",
       "      <td>9.168590e-02</td>\n",
       "    </tr>\n",
       "    <tr>\n",
       "      <th>s</th>\n",
       "      <td>55175</td>\n",
       "      <td>1308969</td>\n",
       "      <td>4.215149e-02</td>\n",
       "    </tr>\n",
       "    <tr>\n",
       "      <th>a</th>\n",
       "      <td>114953</td>\n",
       "      <td>1308969</td>\n",
       "      <td>8.781950e-02</td>\n",
       "    </tr>\n",
       "    <tr>\n",
       "      <th>...</th>\n",
       "      <td>...</td>\n",
       "      <td>...</td>\n",
       "      <td>...</td>\n",
       "    </tr>\n",
       "    <tr>\n",
       "      <th>X</th>\n",
       "      <td>62</td>\n",
       "      <td>1308969</td>\n",
       "      <td>4.736552e-05</td>\n",
       "    </tr>\n",
       "    <tr>\n",
       "      <th>ñ</th>\n",
       "      <td>1</td>\n",
       "      <td>1308969</td>\n",
       "      <td>7.639600e-07</td>\n",
       "    </tr>\n",
       "    <tr>\n",
       "      <th>`</th>\n",
       "      <td>1</td>\n",
       "      <td>1308969</td>\n",
       "      <td>7.639600e-07</td>\n",
       "    </tr>\n",
       "    <tr>\n",
       "      <th>§</th>\n",
       "      <td>1</td>\n",
       "      <td>1308969</td>\n",
       "      <td>7.639600e-07</td>\n",
       "    </tr>\n",
       "    <tr>\n",
       "      <th>á</th>\n",
       "      <td>1</td>\n",
       "      <td>1308969</td>\n",
       "      <td>7.639600e-07</td>\n",
       "    </tr>\n",
       "  </tbody>\n",
       "</table>\n",
       "<p>87 rows × 3 columns</p>\n",
       "</div>"
      ],
      "text/plain": [
       "         counter    total          prob\n",
       "lettera                                \n",
       "A           1298  1308969  9.916201e-04\n",
       "l          56023  1308969  4.279933e-02\n",
       "e         120014  1308969  9.168590e-02\n",
       "s          55175  1308969  4.215149e-02\n",
       "a         114953  1308969  8.781950e-02\n",
       "...          ...      ...           ...\n",
       "X             62  1308969  4.736552e-05\n",
       "ñ              1  1308969  7.639600e-07\n",
       "`              1  1308969  7.639600e-07\n",
       "§              1  1308969  7.639600e-07\n",
       "á              1  1308969  7.639600e-07\n",
       "\n",
       "[87 rows x 3 columns]"
      ]
     },
     "execution_count": 14,
     "metadata": {},
     "output_type": "execute_result"
    }
   ],
   "source": [
    "probs"
   ]
  },
  {
   "cell_type": "code",
   "execution_count": 15,
   "id": "d35f5e80",
   "metadata": {},
   "outputs": [
    {
     "data": {
      "text/plain": [
       "array(['g', 'a', 'e', 'r', 's', ' '], dtype=object)"
      ]
     },
     "execution_count": 15,
     "metadata": {},
     "output_type": "execute_result"
    }
   ],
   "source": [
    "alphabet = probs.index.values\n",
    "p = probs.prob.values\n",
    "np.random.choice(alphabet, size=6, p=p)"
   ]
  },
  {
   "cell_type": "markdown",
   "id": "1202cb69",
   "metadata": {},
   "source": [
    "## N-gram\n",
    "Proxy delle parole di una lingua."
   ]
  },
  {
   "cell_type": "code",
   "execution_count": 16,
   "id": "8a90ebcf",
   "metadata": {},
   "outputs": [],
   "source": [
    "from nltk.tokenize import word_tokenize\n",
    "import nltk"
   ]
  },
  {
   "cell_type": "code",
   "execution_count": 17,
   "id": "1ac7256d",
   "metadata": {},
   "outputs": [
    {
     "data": {
      "text/plain": [
       "['I', \"'m\", 'happy', 'to', 'be', 'here', '.']"
      ]
     },
     "execution_count": 17,
     "metadata": {},
     "output_type": "execute_result"
    }
   ],
   "source": [
    "word_tokenize(\"I'm happy to be here.\")"
   ]
  },
  {
   "cell_type": "code",
   "execution_count": 18,
   "id": "779974f6",
   "metadata": {},
   "outputs": [],
   "source": [
    "from collections import defaultdict"
   ]
  },
  {
   "cell_type": "code",
   "execution_count": 126,
   "id": "4f332791",
   "metadata": {},
   "outputs": [],
   "source": [
    "italian_corpus_file = '/Users/flint/Data/wordlists/italian.csv'\n",
    "columns = ['word form', 'frequence']\n",
    "italian_corpus = pd.read_csv(italian_corpus_file, encoding='latin1', sep=';', header=2)[columns].dropna()"
   ]
  },
  {
   "cell_type": "code",
   "execution_count": 127,
   "id": "f980defd",
   "metadata": {},
   "outputs": [],
   "source": [
    "english_corpus_file = '/Users/flint/Data/wordlists/english.csv'\n",
    "columns = ['word', 'frequence']\n",
    "english_corpus = pd.read_csv(english_corpus_file, sep=';')[columns]"
   ]
  },
  {
   "cell_type": "code",
   "execution_count": 128,
   "id": "91b5e69e",
   "metadata": {},
   "outputs": [
    {
     "data": {
      "text/html": [
       "<div>\n",
       "<style scoped>\n",
       "    .dataframe tbody tr th:only-of-type {\n",
       "        vertical-align: middle;\n",
       "    }\n",
       "\n",
       "    .dataframe tbody tr th {\n",
       "        vertical-align: top;\n",
       "    }\n",
       "\n",
       "    .dataframe thead th {\n",
       "        text-align: right;\n",
       "    }\n",
       "</style>\n",
       "<table border=\"1\" class=\"dataframe\">\n",
       "  <thead>\n",
       "    <tr style=\"text-align: right;\">\n",
       "      <th></th>\n",
       "      <th>word</th>\n",
       "      <th>frequence</th>\n",
       "    </tr>\n",
       "  </thead>\n",
       "  <tbody>\n",
       "    <tr>\n",
       "      <th>0</th>\n",
       "      <td>the</td>\n",
       "      <td>1 086 322 084</td>\n",
       "    </tr>\n",
       "    <tr>\n",
       "      <th>1</th>\n",
       "      <td>and</td>\n",
       "      <td>570 238 088</td>\n",
       "    </tr>\n",
       "    <tr>\n",
       "      <th>2</th>\n",
       "      <td>to</td>\n",
       "      <td>567 125 659</td>\n",
       "    </tr>\n",
       "    <tr>\n",
       "      <th>3</th>\n",
       "      <td>of</td>\n",
       "      <td>520 616 100</td>\n",
       "    </tr>\n",
       "    <tr>\n",
       "      <th>4</th>\n",
       "      <td>a</td>\n",
       "      <td>450 818 768</td>\n",
       "    </tr>\n",
       "  </tbody>\n",
       "</table>\n",
       "</div>"
      ],
      "text/plain": [
       "  word      frequence\n",
       "0  the  1 086 322 084\n",
       "1  and    570 238 088\n",
       "2   to    567 125 659\n",
       "3   of    520 616 100\n",
       "4    a    450 818 768"
      ]
     },
     "execution_count": 128,
     "metadata": {},
     "output_type": "execute_result"
    }
   ],
   "source": [
    "english_corpus.head()"
   ]
  },
  {
   "cell_type": "code",
   "execution_count": null,
   "id": "0b05345e",
   "metadata": {},
   "outputs": [],
   "source": [
    "words = italian_corpus['word form'].values\n",
    "frequences = italian_corpus['frequence'].values"
   ]
  },
  {
   "cell_type": "code",
   "execution_count": null,
   "id": "e28f9645",
   "metadata": {},
   "outputs": [],
   "source": [
    "words = english_corpus['word'].values\n",
    "frequences = [int(x.replace(' ', '')) for x in english_corpus['frequence'].values if isinstance(x, str)]"
   ]
  },
  {
   "cell_type": "code",
   "execution_count": null,
   "id": "f8578dc0",
   "metadata": {},
   "outputs": [],
   "source": [
    "n = 3\n",
    "index_dict = defaultdict(lambda: 0)\n",
    "for i, word in enumerate(words):\n",
    "    try:\n",
    "        word_ngrams = list(nltk.ngrams(\"#\" + word + \".\", n=n))\n",
    "        for ng in word_ngrams:\n",
    "            index_dict[ng] += frequences[i]\n",
    "    except TypeError:\n",
    "        pass"
   ]
  },
  {
   "cell_type": "code",
   "execution_count": null,
   "id": "d8e92367",
   "metadata": {},
   "outputs": [],
   "source": [
    "entries = []\n",
    "for k, v in index_dict.items():\n",
    "    entry = {}\n",
    "    for i, key in enumerate(k):\n",
    "        entry['letter_{}'.format(i)] = key\n",
    "    entry['counter'] = v\n",
    "    entries.append(entry)"
   ]
  },
  {
   "cell_type": "code",
   "execution_count": null,
   "id": "f4f066d1",
   "metadata": {},
   "outputs": [],
   "source": [
    "table = pd.DataFrame(entries)"
   ]
  },
  {
   "cell_type": "code",
   "execution_count": null,
   "id": "e4f0e81d",
   "metadata": {},
   "outputs": [],
   "source": [
    "table.to_sql('english_{}'.format(n), engine, if_exists='replace', index=False)"
   ]
  },
  {
   "cell_type": "markdown",
   "id": "028bef3a",
   "metadata": {},
   "source": [
    "## Compute probabilities"
   ]
  },
  {
   "cell_type": "code",
   "execution_count": 91,
   "id": "152c03d3",
   "metadata": {},
   "outputs": [],
   "source": [
    "sql = \"\"\"\n",
    "SELECT *\n",
    "FROM {}_2 AS T\n",
    "WHERE T.letter_0 = ($prefix0) AND T.letter_1 = ($subsequent);\n",
    "\"\"\"\n",
    "\n",
    "sql2 = \"\"\"\n",
    "SELECT SUM(T.counter) AS total\n",
    "FROM {}_2 AS T\n",
    "WHERE T.letter_0 = ($prefix0);\n",
    "\"\"\"\n",
    "\n",
    "sql3 = \"\"\"\n",
    "SELECT *\n",
    "FROM {}_3 AS T\n",
    "WHERE T.letter_0 = ($prefix0) AND T.letter_1 = ($prefix1) AND T.letter_2 = ($subsequent);\n",
    "\"\"\"\n",
    "\n",
    "sql4 = \"\"\"\n",
    "SELECT SUM(T.counter) AS total\n",
    "FROM {}_3 AS T\n",
    "WHERE T.letter_0 = ($prefix0) AND T.letter_1 = ($prefix1);\n",
    "\"\"\""
   ]
  },
  {
   "cell_type": "code",
   "execution_count": 92,
   "id": "8578ede2",
   "metadata": {},
   "outputs": [],
   "source": [
    "catalog = {\n",
    "    2: (sql, sql2), 3: (sql3, sql4)\n",
    "}"
   ]
  },
  {
   "cell_type": "code",
   "execution_count": 95,
   "id": "ce0c55d5",
   "metadata": {},
   "outputs": [],
   "source": [
    "def p_bi(prefix_list, c, language='italian'):\n",
    "    \n",
    "    sql = catalog[len(prefix_list) + 1][0]\n",
    "    params = {}\n",
    "    for i, prefix in enumerate(prefix_list):\n",
    "        params['prefix{}'.format(i)] = \"{}\".format(prefix)\n",
    "    params['subsequent'] = \"{}\".format(c)\n",
    "    \n",
    "    data = pd.read_sql_query(\n",
    "        sql.format(language), engine, \n",
    "        params=params)\n",
    "    \n",
    "    if data.shape[0] > 0:\n",
    "        w = data.iloc[0]['counter']\n",
    "        if w is not None:\n",
    "            return w\n",
    "        else:\n",
    "            return 0.00001\n",
    "    else:\n",
    "        return 0.00001\n",
    "    \n",
    "def p_prefix(prefix_list, language='italian'): \n",
    "    sql = catalog[len(prefix_list) + 1][1]\n",
    "    params = {}\n",
    "    for i, prefix in enumerate(prefix_list):\n",
    "        params['prefix{}'.format(i)] = \"{}\".format(prefix)\n",
    "    data = pd.read_sql_query(sql.format(language), engine, params=params)\n",
    "    \n",
    "    if data.shape[0] > 0:\n",
    "        w = data.iloc[0]['total']\n",
    "        if w is not None:\n",
    "            return w\n",
    "        else:\n",
    "            return 0.00001\n",
    "    else:\n",
    "        return 0.00001\n",
    "    \n",
    "def prob(prefix_list, c, language='italian'):\n",
    "    return p_bi(prefix_list, c, language=language) / p_prefix(prefix_list, language=language)"
   ]
  },
  {
   "cell_type": "code",
   "execution_count": 96,
   "id": "92bc18c8",
   "metadata": {},
   "outputs": [
    {
     "data": {
      "text/plain": [
       "0.7163255048450228"
      ]
     },
     "execution_count": 96,
     "metadata": {},
     "output_type": "execute_result"
    }
   ],
   "source": [
    "prob(['a', 'b'], 'b')"
   ]
  },
  {
   "cell_type": "code",
   "execution_count": 103,
   "id": "bbdf1a95",
   "metadata": {},
   "outputs": [
    {
     "name": "stdout",
     "output_type": "stream",
     "text": [
      "['a', 'b'] a\n",
      "['b', 'a'] c\n",
      "['a', 'c'] o\n"
     ]
    }
   ],
   "source": [
    "for x in nltk.ngrams('abaco', n=3):\n",
    "    print(list(x[:-1]), x[-1])"
   ]
  },
  {
   "cell_type": "code",
   "execution_count": 104,
   "id": "f7875885",
   "metadata": {},
   "outputs": [],
   "source": [
    "def evaluate_word(word, n=2, language='italian'):\n",
    "    probs = []\n",
    "    w = '#' + word + '.'\n",
    "    for x in nltk.ngrams(w, n=n):\n",
    "        prefix, c = list(x[:-1]), x[-1]\n",
    "        p_ng = prob(prefix, c, language=language)\n",
    "        if p_ng > 0:\n",
    "            probs.append(np.log(p_ng))\n",
    "        else:\n",
    "            probs.append(np.log(0.0000001))\n",
    "    return np.array(probs).sum()"
   ]
  },
  {
   "cell_type": "code",
   "execution_count": 106,
   "id": "e059e2de",
   "metadata": {},
   "outputs": [
    {
     "name": "stdout",
     "output_type": "stream",
     "text": [
      "-86.619527805952\n",
      "-5.857794488310864\n",
      "-60.574279734105666\n",
      "-11.322925364304975\n"
     ]
    }
   ],
   "source": [
    "n = 3\n",
    "\n",
    "print(evaluate_word('play', n=n, language='italian'))\n",
    "print(evaluate_word('play', n=n, language='english'))\n",
    "\n",
    "print(evaluate_word('pasta', n=n, language='italian'))\n",
    "print(evaluate_word('pasta', n=n, language='english'))"
   ]
  },
  {
   "cell_type": "markdown",
   "id": "0a8642e8",
   "metadata": {},
   "source": [
    "## Global evaluation"
   ]
  },
  {
   "cell_type": "code",
   "execution_count": 134,
   "id": "8d226a43",
   "metadata": {},
   "outputs": [],
   "source": [
    "def predict(x, n=3, languages=['italian', 'english']):\n",
    "    predictions = []\n",
    "    for language in languages:\n",
    "        pred = evaluate_word(x, n=n, language=language)\n",
    "        predictions.append(pred)\n",
    "    l = np.argmax(np.array(predictions))\n",
    "    return languages[l]"
   ]
  },
  {
   "cell_type": "code",
   "execution_count": 135,
   "id": "22cb04cb",
   "metadata": {},
   "outputs": [
    {
     "data": {
      "text/plain": [
       "'english'"
      ]
     },
     "execution_count": 135,
     "metadata": {},
     "output_type": "execute_result"
    }
   ],
   "source": [
    "predict('football')"
   ]
  },
  {
   "cell_type": "markdown",
   "id": "46a69d9a",
   "metadata": {},
   "source": [
    "w1 = ita, ita => TP\n",
    "\n",
    "w2 = ita, eng => FN\n",
    "\n",
    "w3 = eng, eng => TN\n",
    "\n",
    "w4 = eng, ita => FP\n",
    "\n",
    "PRECISION = TP / (TP + FP)\n",
    "\n",
    "RECALL = TP / (TP + FN)"
   ]
  },
  {
   "cell_type": "code",
   "execution_count": 137,
   "id": "96f4a55e",
   "metadata": {},
   "outputs": [],
   "source": [
    "it_words = italian_corpus['word form'].values\n",
    "en_words = english_corpus['word'].values\n",
    "it_words[:6], en_words[:6]\n",
    "\n",
    "test_set = []\n",
    "y = []\n",
    "for word in it_words:\n",
    "    if isinstance(word, str):\n",
    "        test_set.append(word)\n",
    "        y.append('italian')\n",
    "for word in en_words:\n",
    "    if isinstance(word, str):\n",
    "        test_set.append(word)\n",
    "        y.append('english')"
   ]
  },
  {
   "cell_type": "code",
   "execution_count": 138,
   "id": "3d9387e0",
   "metadata": {},
   "outputs": [
    {
     "data": {
      "text/plain": [
       "(['di', 'e', 'il', 'la', 'che', 'in'],\n",
       " ['italian', 'italian', 'italian', 'italian', 'italian', 'italian'])"
      ]
     },
     "execution_count": 138,
     "metadata": {},
     "output_type": "execute_result"
    }
   ],
   "source": [
    "test_set[:6], y[:6]"
   ]
  },
  {
   "cell_type": "code",
   "execution_count": 139,
   "id": "a4af33b7",
   "metadata": {},
   "outputs": [
    {
     "data": {
      "application/vnd.jupyter.widget-view+json": {
       "model_id": "48d8d961d70e4d73a6276386cf337487",
       "version_major": 2,
       "version_minor": 0
      },
      "text/plain": [
       "  0%|          | 0/1000 [00:00<?, ?it/s]"
      ]
     },
     "metadata": {},
     "output_type": "display_data"
    }
   ],
   "source": [
    "y_pred = []\n",
    "for word in tqdm(test_set):\n",
    "    y_pred.append(predict(word))"
   ]
  },
  {
   "cell_type": "code",
   "execution_count": 140,
   "id": "3c2b8dbc",
   "metadata": {},
   "outputs": [],
   "source": [
    "from sklearn.metrics import classification_report, confusion_matrix, ConfusionMatrixDisplay"
   ]
  },
  {
   "cell_type": "code",
   "execution_count": 141,
   "id": "b0c81488",
   "metadata": {},
   "outputs": [
    {
     "name": "stdout",
     "output_type": "stream",
     "text": [
      "              precision    recall  f1-score   support\n",
      "\n",
      "     english       0.96      0.96      0.96       500\n",
      "     italian       0.96      0.96      0.96       500\n",
      "\n",
      "    accuracy                           0.96      1000\n",
      "   macro avg       0.96      0.96      0.96      1000\n",
      "weighted avg       0.96      0.96      0.96      1000\n",
      "\n"
     ]
    }
   ],
   "source": [
    "print(classification_report(y, y_pred))"
   ]
  },
  {
   "cell_type": "code",
   "execution_count": 142,
   "id": "a903fed7",
   "metadata": {},
   "outputs": [],
   "source": [
    "import matplotlib.pyplot as plt"
   ]
  },
  {
   "cell_type": "code",
   "execution_count": 143,
   "id": "8b2ddf43",
   "metadata": {},
   "outputs": [
    {
     "data": {
      "image/png": "[encoded data removed]",
      "text/plain": [
       "<Figure size 432x288 with 2 Axes>"
      ]
     },
     "metadata": {
      "needs_background": "light"
     },
     "output_type": "display_data"
    }
   ],
   "source": [
    "cm = confusion_matrix(y, y_pred)\n",
    "display = ConfusionMatrixDisplay(confusion_matrix=cm, display_labels=languages)\n",
    "fig, ax = plt.subplots()\n",
    "display.plot(ax=ax)\n",
    "plt.tight_layout()\n",
    "plt.show()"
   ]
  },
  {
   "cell_type": "markdown",
   "id": "bb777115",
   "metadata": {},
   "source": [
    "## Word generation"
   ]
  },
  {
   "cell_type": "code",
   "execution_count": 178,
   "id": "02b25af7",
   "metadata": {},
   "outputs": [],
   "source": [
    "sql_p3 = \"\"\"\n",
    "SELECT T.letter_2, T.counter\n",
    "FROM italian_3 AS T\n",
    "WHERE letter_0 = ($prefix0) AND letter_1 = ($prefix1);\n",
    "\"\"\"\n",
    "\n",
    "sql_p2 = \"\"\"\n",
    "SELECT T.letter_1, T.counter\n",
    "FROM italian_3 AS T\n",
    "WHERE letter_0 = ($prefix0);\n",
    "\"\"\"\n",
    "\n",
    "\n",
    "def get_counts(language, n, prefix_list):\n",
    "    table = \"{}_{}\".format(language, n)\n",
    "    if n == 2:\n",
    "        sql = sql_p2\n",
    "    else:\n",
    "        sql = sql_p3\n",
    "    params = {}\n",
    "    for i, pr in enumerate(prefix_list):\n",
    "        params['prefix{}'.format(i)] = \"{}\".format(pr)\n",
    "    res = pd.read_sql_query(sql, engine, params=params, index_col='letter_{}'.format(n-1))\n",
    "    return res / res.sum()"
   ]
  },
  {
   "cell_type": "code",
   "execution_count": 187,
   "id": "eb4f428f",
   "metadata": {},
   "outputs": [],
   "source": [
    "def generate(language='italian', start=['#']):\n",
    "    prefix = start\n",
    "    for i in range(100):\n",
    "        if len(prefix) == 0:\n",
    "            px = '#'\n",
    "            n = 2\n",
    "        elif len(prefix) == 1:\n",
    "            px = prefix\n",
    "            n = 2\n",
    "        elif len(prefix) == 2:\n",
    "            px = prefix\n",
    "            n = 3\n",
    "        else:\n",
    "            px = prefix[-2:]\n",
    "            n = 3\n",
    "        counts = get_counts(language, n, px)\n",
    "        alphabet, probs = counts.index.values, counts.counter.values\n",
    "        next_c = np.random.choice(alphabet, p=probs)\n",
    "        if next_c == '.':\n",
    "            break\n",
    "        else:\n",
    "            prefix.append(next_c)\n",
    "    prediction = \"\".join(prefix).replace('#', '')\n",
    "    return prediction"
   ]
  },
  {
   "cell_type": "code",
   "execution_count": 197,
   "id": "5e45cd4d",
   "metadata": {},
   "outputs": [
    {
     "name": "stdout",
     "output_type": "stream",
     "text": [
      "perso\n",
      "per\n",
      "per\n",
      "per\n",
      "posse\n",
      "pose\n",
      "person\n",
      "prealla\n",
      "progessene\n",
      "percasi\n"
     ]
    }
   ],
   "source": [
    "for i in range(10):\n",
    "    print(generate(language='english', start=['#', 'p']))"
   ]
  },
  {
   "cell_type": "code",
   "execution_count": 177,
   "id": "b79675f2",
   "metadata": {},
   "outputs": [
    {
     "data": {
      "text/plain": [
       "'a'"
      ]
     },
     "execution_count": 177,
     "metadata": {},
     "output_type": "execute_result"
    }
   ],
   "source": []
  },
  {
   "cell_type": "code",
   "execution_count": null,
   "id": "4e0486bc",
   "metadata": {},
   "outputs": [],
   "source": []
  }
 ],
 "metadata": {
  "kernelspec": {
   "display_name": "crike",
   "language": "python",
   "name": "crike"
  },
  "language_info": {
   "codemirror_mode": {
    "name": "ipython",
    "version": 3
   },
   "file_extension": ".py",
   "mimetype": "text/x-python",
   "name": "python",
   "nbconvert_exporter": "python",
   "pygments_lexer": "ipython3",
   "version": "3.8.8"
  },
  "toc": {
   "base_numbering": 1,
   "nav_menu": {},
   "number_sections": true,
   "sideBar": true,
   "skip_h1_title": false,
   "title_cell": "Table of Contents",
   "title_sidebar": "Contents",
   "toc_cell": false,
   "toc_position": {},
   "toc_section_display": true,
   "toc_window_display": false
  }
 },
 "nbformat": 4,
 "nbformat_minor": 5
}
