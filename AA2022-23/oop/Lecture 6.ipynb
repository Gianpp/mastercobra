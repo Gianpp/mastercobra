{
 "cells": [
  {
   "cell_type": "markdown",
   "id": "e77d769d",
   "metadata": {},
   "source": [
    "### step 1. Descrivere l'oggetto tipo in una classe"
   ]
  },
  {
   "cell_type": "code",
   "execution_count": 115,
   "id": "12cb13f2",
   "metadata": {},
   "outputs": [],
   "source": [
    "class TheSimpsons():\n",
    "   \n",
    "    # la classe contiene la descizione di oggetti di tipo TheSimpsons\n",
    "    # qui vanno specificati gli attributi e i metodi che devono avere tutti gli oggetti di tipo TheSimpsons\n",
    "    \n",
    "    def __init__(self, nome, anni, op): # inizializzatore\n",
    "        # creare attributi di istanza, assegna il valore iniziale agli attributi di istanza\n",
    "        self.nome = nome\n",
    "        self.eta = anni\n",
    "        self.orientamento_politico = op\n",
    "        \n",
    "    # metodi dell'istanza\n",
    "    def descriviti(self):\n",
    "        print(f\"Ciao, sono {self.nome} {self.cognome} e ho {self.eta} anni. Voto {self.orientamento_politico}!\")\n",
    "        \n",
    "    def mangia(self, cibo):\n",
    "        print(f\"Mangio {cibo}\")\n",
    "        \n",
    "    def compie_anni(self):\n",
    "        print(f\"Happy Birthday {self.nome} !!!\")\n",
    "        self.eta = self.eta + 1"
   ]
  },
  {
   "cell_type": "markdown",
   "id": "343f271e",
   "metadata": {},
   "source": [
    "### step 2. Instantiation: creazione di istanze della classe"
   ]
  },
  {
   "cell_type": "code",
   "execution_count": 114,
   "id": "7f2aea8b",
   "metadata": {},
   "outputs": [],
   "source": [
    "lisa = TheSimpsons(\"Lisa\", 7, \"Repub\")\n",
    "bart = TheSimpsons(\"Bart\", 10, \"Dem\")\n",
    "homer = TheSimpsons(\"Homer\", 42, \"Dem\")"
   ]
  },
  {
   "cell_type": "code",
   "execution_count": 155,
   "id": "2e7b7983",
   "metadata": {},
   "outputs": [
    {
     "name": "stdout",
     "output_type": "stream",
     "text": [
      "Ciao, sono Lisa Simpson e ho 7 anni. Voto Repub!\n"
     ]
    }
   ],
   "source": [
    "lisa.descriviti()"
   ]
  },
  {
   "cell_type": "code",
   "execution_count": 156,
   "id": "0942e4de",
   "metadata": {},
   "outputs": [
    {
     "name": "stdout",
     "output_type": "stream",
     "text": [
      "Happy Birthday Lisa !!!\n"
     ]
    }
   ],
   "source": [
    "lisa.compie_anni()"
   ]
  },
  {
   "cell_type": "code",
   "execution_count": 157,
   "id": "6fd246ad",
   "metadata": {},
   "outputs": [
    {
     "data": {
      "text/plain": [
       "8"
      ]
     },
     "execution_count": 157,
     "metadata": {},
     "output_type": "execute_result"
    }
   ],
   "source": [
    "lisa.eta "
   ]
  },
  {
   "cell_type": "code",
   "execution_count": 99,
   "id": "7a83b4a5",
   "metadata": {},
   "outputs": [
    {
     "name": "stdout",
     "output_type": "stream",
     "text": [
      "Ciao, sono Bart Simpson e ho 10 anni. Voto Dem!\n"
     ]
    }
   ],
   "source": [
    "bart.descriviti()"
   ]
  },
  {
   "cell_type": "code",
   "execution_count": 100,
   "id": "ef95c3e1",
   "metadata": {},
   "outputs": [
    {
     "name": "stdout",
     "output_type": "stream",
     "text": [
      "Ciao, sono Homer Simpson e ho 42 anni. Voto Dem!\n"
     ]
    }
   ],
   "source": [
    "homer.descriviti()"
   ]
  },
  {
   "cell_type": "markdown",
   "id": "befc1ca0",
   "metadata": {},
   "source": [
    "#### Esempio dict vs defaultdict"
   ]
  },
  {
   "cell_type": "code",
   "execution_count": 144,
   "id": "81d546e3",
   "metadata": {},
   "outputs": [],
   "source": [
    "normal_dictionary = dict()\n",
    "normal_dictionary[\"Sara\"] = 10\n",
    "normal_dictionary[\"Mattia\"] = 8\n",
    "normal_dictionary[\"Lucia\"] = 5"
   ]
  },
  {
   "cell_type": "code",
   "execution_count": 147,
   "id": "04920568",
   "metadata": {},
   "outputs": [
    {
     "ename": "KeyError",
     "evalue": "'Luca'",
     "output_type": "error",
     "traceback": [
      "\u001b[1;31m---------------------------------------------------------------------------\u001b[0m",
      "\u001b[1;31mKeyError\u001b[0m                                  Traceback (most recent call last)",
      "Input \u001b[1;32mIn [147]\u001b[0m, in \u001b[0;36m<cell line: 1>\u001b[1;34m()\u001b[0m\n\u001b[1;32m----> 1\u001b[0m \u001b[43mnormal_dictionary\u001b[49m\u001b[43m[\u001b[49m\u001b[38;5;124;43m\"\u001b[39;49m\u001b[38;5;124;43mLuca\u001b[39;49m\u001b[38;5;124;43m\"\u001b[39;49m\u001b[43m]\u001b[49m\n",
      "\u001b[1;31mKeyError\u001b[0m: 'Luca'"
     ]
    }
   ],
   "source": [
    "normal_dictionary[\"Luca\"]"
   ]
  },
  {
   "cell_type": "code",
   "execution_count": 151,
   "id": "fe26285e",
   "metadata": {},
   "outputs": [],
   "source": [
    "default_dictionary = defaultdict(int)\n",
    "default_dictionary[key] = value\n",
    "\n",
    "default_dictionary[\"Mattia\"] = 8\n",
    "default_dictionary[\"Sara\"] = 10"
   ]
  },
  {
   "cell_type": "code",
   "execution_count": 154,
   "id": "4ad63007",
   "metadata": {},
   "outputs": [
    {
     "data": {
      "text/plain": [
       "0"
      ]
     },
     "execution_count": 154,
     "metadata": {},
     "output_type": "execute_result"
    }
   ],
   "source": [
    "default_dictionary[\"Marco\"]"
   ]
  }
 ],
 "metadata": {
  "kernelspec": {
   "display_name": "Python 3 (ipykernel)",
   "language": "python",
   "name": "python3"
  },
  "language_info": {
   "codemirror_mode": {
    "name": "ipython",
    "version": 3
   },
   "file_extension": ".py",
   "mimetype": "text/x-python",
   "name": "python",
   "nbconvert_exporter": "python",
   "pygments_lexer": "ipython3",
   "version": "3.9.12"
  }
 },
 "nbformat": 4,
 "nbformat_minor": 5
}
