{
 "cells": [
  {
   "cell_type": "markdown",
   "id": "88846f7d",
   "metadata": {},
   "source": [
    "# Esercitazione"
   ]
  },
  {
   "cell_type": "code",
   "execution_count": 1,
   "id": "9725e7e5",
   "metadata": {},
   "outputs": [],
   "source": [
    "import pandas as pd\n",
    "import numpy as np\n",
    "from tqdm.notebook import tqdm"
   ]
  },
  {
   "cell_type": "markdown",
   "id": "dbb2eb36",
   "metadata": {},
   "source": [
    "## Comprensione del codice"
   ]
  },
  {
   "cell_type": "markdown",
   "id": "d41d1948",
   "metadata": {},
   "source": [
    "### Esercizio 1"
   ]
  },
  {
   "cell_type": "code",
   "execution_count": 2,
   "id": "dd0903be",
   "metadata": {},
   "outputs": [],
   "source": [
    "a, b = [4, 8, 12, 16], [3, 2, 6]\n",
    "out = np.zeros((len(a), len(b)))\n",
    "for i, v_a in enumerate(a):\n",
    "    for j, v_b in enumerate(b):\n",
    "        if v_a % v_b == 0:\n",
    "            out[i,j] = 1"
   ]
  },
  {
   "cell_type": "code",
   "execution_count": 3,
   "id": "46a6ec27",
   "metadata": {},
   "outputs": [
    {
     "name": "stdout",
     "output_type": "stream",
     "text": [
      "[[0. 1. 0.]\n",
      " [0. 1. 0.]\n",
      " [1. 1. 1.]\n",
      " [0. 1. 0.]]\n"
     ]
    }
   ],
   "source": [
    "print(out)"
   ]
  },
  {
   "cell_type": "markdown",
   "id": "af44ef83",
   "metadata": {},
   "source": [
    "### Esercizio 2"
   ]
  },
  {
   "cell_type": "code",
   "execution_count": 4,
   "id": "2fb52356",
   "metadata": {},
   "outputs": [],
   "source": [
    "class A:\n",
    "    def __init__(self, x):\n",
    "        self.x = x\n",
    "    def execute(self):\n",
    "        return np.power(self.x, 2)\n",
    "class B(A):\n",
    "    def execute(self):\n",
    "        return np.power(self.x, 4)\n",
    "a, b = A(3), B(2)"
   ]
  },
  {
   "cell_type": "code",
   "execution_count": 5,
   "id": "404748c9",
   "metadata": {},
   "outputs": [
    {
     "name": "stdout",
     "output_type": "stream",
     "text": [
      "-7\n"
     ]
    }
   ],
   "source": [
    "print(a.execute() - b.execute())"
   ]
  },
  {
   "cell_type": "markdown",
   "id": "3ed6e07b",
   "metadata": {},
   "source": [
    "### Esercizio 3"
   ]
  },
  {
   "cell_type": "code",
   "execution_count": 6,
   "id": "732cecd0",
   "metadata": {},
   "outputs": [],
   "source": [
    "a = {'x': lambda x: 2*x, 'y': lambda y: y / 2}\n",
    "k = [a['x'](i) - a['y'](i) for i in range(6)]"
   ]
  },
  {
   "cell_type": "code",
   "execution_count": 7,
   "id": "dc837e6f",
   "metadata": {},
   "outputs": [
    {
     "name": "stdout",
     "output_type": "stream",
     "text": [
      "[0.0, 1.5, 3.0, 4.5, 6.0, 7.5]\n"
     ]
    }
   ],
   "source": [
    "print(k)"
   ]
  },
  {
   "cell_type": "markdown",
   "id": "2b5a31d4",
   "metadata": {},
   "source": [
    "## Programmazione\n",
    "\n",
    "### Fibonacci\n",
    "Definire un programma iterativo che generi la serie di Fibonacci fino a un valore $N$.\n",
    "\n",
    "Se ricorda che la struttura generale della serie è:\n",
    "\n",
    "$$\n",
    "f_n = f_{n-1} + f_{n-2}\n",
    "$$\n",
    "\n",
    "Mostrare poi in un grafico la funzione generata dalla serie e la sua cumulata"
   ]
  },
  {
   "cell_type": "code",
   "execution_count": 8,
   "id": "2497e5e3",
   "metadata": {},
   "outputs": [],
   "source": [
    "N = 2000\n",
    "x, y = 0, 1\n",
    "fibo = [x, y]\n",
    "while True:\n",
    "    n = fibo[-1] + fibo[-2]\n",
    "    if n < N:\n",
    "        fibo.append(n)\n",
    "    else:\n",
    "        break"
   ]
  },
  {
   "cell_type": "code",
   "execution_count": 9,
   "id": "fff2e4b3",
   "metadata": {},
   "outputs": [],
   "source": [
    "import matplotlib.pyplot as plt"
   ]
  },
  {
   "cell_type": "code",
   "execution_count": 10,
   "id": "a9e34636",
   "metadata": {},
   "outputs": [
    {
     "data": {
      "image/png": "[encoded data removed]",
      "text/plain": [
       "<Figure size 720x288 with 2 Axes>"
      ]
     },
     "metadata": {
      "needs_background": "light"
     },
     "output_type": "display_data"
    }
   ],
   "source": [
    "fig, ax = plt.subplots(figsize=(10, 4), ncols=2)\n",
    "ax[0].plot(fibo, label='Serie')\n",
    "ax[1].plot(np.cumsum(fibo), label='Cumulata')\n",
    "ax[0].legend()\n",
    "ax[1].legend()\n",
    "plt.tight_layout()\n",
    "plt.show()"
   ]
  },
  {
   "cell_type": "markdown",
   "id": "68c5559c",
   "metadata": {},
   "source": [
    "### Edit Distance\n",
    "**Problema:** date due stringhe $a$ e $b$, individuare una strategia per calcolare il numero minimo di operazioni necessario a trasformare $a$ in $b$, avendo come possibili operazioni l'inserimento di un carattere, la cancellazione di un carattere, e la sostituzione di un carattere.\n",
    "\n",
    "<table>\n",
    "    <tr><td></td><td>#</td><td>c</td><td>a</td><td>s</td><td>t</td><td>o</td></tr>\n",
    "    <tr><td>#</td><td>0</td><td>1</td><td>2</td><td>3</td><td>4</td><td>5</td></tr>\n",
    "    <tr><td>c</td><td>1</td><td></td><td></td><td></td><td></td><td></td></tr>\n",
    "    <tr><td>a</td><td>2</td><td></td><td></td><td></td><td></td><td></td></tr>\n",
    "    <tr><td>s</td><td>3</td><td></td><td></td><td></td><td></td><td></td></tr>\n",
    "    <tr><td>a</td><td>4</td><td></td><td></td><td></td><td></td><td></td></tr>\n",
    "</table>\n",
    "\n",
    "$E(i, j) = \\min \\{E(i-1, j) + 1; E(i, j-1) + 1; E(i-1,j-1) + k\\}$, where \n",
    "\n",
    "$$\n",
    "k = \\left \\{ \\begin{matrix}\n",
    "    1 & if\\ s_1(i) \\neq s_2(j)\\\\\n",
    "    0 & otherwise \n",
    "    \\end{matrix}\n",
    "    \\right .\n",
    "$$"
   ]
  },
  {
   "cell_type": "code",
   "execution_count": 14,
   "id": "bb58ee35",
   "metadata": {},
   "outputs": [],
   "source": [
    "def show(m, a, b):\n",
    "    return pd.DataFrame(m, index=list(\"#\" + a), columns=list(\"#\" + b))"
   ]
  },
  {
   "cell_type": "code",
   "execution_count": 20,
   "id": "9fb8ac69",
   "metadata": {},
   "outputs": [],
   "source": [
    "a, b = 'cane', 'carte'\n",
    "m = np.zeros((len(a) + 1, len(b) + 1))\n",
    "m[0] = list(range(len(b) + 1))\n",
    "m[:,0] = range(len(a)+1)"
   ]
  },
  {
   "cell_type": "code",
   "execution_count": 21,
   "id": "770a38f7",
   "metadata": {},
   "outputs": [
    {
     "data": {
      "text/html": [
       "<div>\n",
       "<style scoped>\n",
       "    .dataframe tbody tr th:only-of-type {\n",
       "        vertical-align: middle;\n",
       "    }\n",
       "\n",
       "    .dataframe tbody tr th {\n",
       "        vertical-align: top;\n",
       "    }\n",
       "\n",
       "    .dataframe thead th {\n",
       "        text-align: right;\n",
       "    }\n",
       "</style>\n",
       "<table border=\"1\" class=\"dataframe\">\n",
       "  <thead>\n",
       "    <tr style=\"text-align: right;\">\n",
       "      <th></th>\n",
       "      <th>#</th>\n",
       "      <th>c</th>\n",
       "      <th>a</th>\n",
       "      <th>r</th>\n",
       "      <th>t</th>\n",
       "      <th>e</th>\n",
       "    </tr>\n",
       "  </thead>\n",
       "  <tbody>\n",
       "    <tr>\n",
       "      <th>#</th>\n",
       "      <td>0.0</td>\n",
       "      <td>1.0</td>\n",
       "      <td>2.0</td>\n",
       "      <td>3.0</td>\n",
       "      <td>4.0</td>\n",
       "      <td>5.0</td>\n",
       "    </tr>\n",
       "    <tr>\n",
       "      <th>c</th>\n",
       "      <td>1.0</td>\n",
       "      <td>0.0</td>\n",
       "      <td>0.0</td>\n",
       "      <td>0.0</td>\n",
       "      <td>0.0</td>\n",
       "      <td>0.0</td>\n",
       "    </tr>\n",
       "    <tr>\n",
       "      <th>a</th>\n",
       "      <td>2.0</td>\n",
       "      <td>0.0</td>\n",
       "      <td>0.0</td>\n",
       "      <td>0.0</td>\n",
       "      <td>0.0</td>\n",
       "      <td>0.0</td>\n",
       "    </tr>\n",
       "    <tr>\n",
       "      <th>n</th>\n",
       "      <td>3.0</td>\n",
       "      <td>0.0</td>\n",
       "      <td>0.0</td>\n",
       "      <td>0.0</td>\n",
       "      <td>0.0</td>\n",
       "      <td>0.0</td>\n",
       "    </tr>\n",
       "    <tr>\n",
       "      <th>e</th>\n",
       "      <td>4.0</td>\n",
       "      <td>0.0</td>\n",
       "      <td>0.0</td>\n",
       "      <td>0.0</td>\n",
       "      <td>0.0</td>\n",
       "      <td>0.0</td>\n",
       "    </tr>\n",
       "  </tbody>\n",
       "</table>\n",
       "</div>"
      ],
      "text/plain": [
       "     #    c    a    r    t    e\n",
       "#  0.0  1.0  2.0  3.0  4.0  5.0\n",
       "c  1.0  0.0  0.0  0.0  0.0  0.0\n",
       "a  2.0  0.0  0.0  0.0  0.0  0.0\n",
       "n  3.0  0.0  0.0  0.0  0.0  0.0\n",
       "e  4.0  0.0  0.0  0.0  0.0  0.0"
      ]
     },
     "execution_count": 21,
     "metadata": {},
     "output_type": "execute_result"
    }
   ],
   "source": [
    "show(m, a, b)"
   ]
  },
  {
   "cell_type": "code",
   "execution_count": 29,
   "id": "32cf6f18",
   "metadata": {},
   "outputs": [],
   "source": [
    "row_string, col_string = \"#\" + a, \"#\" + b\n",
    "for i, row in enumerate(m[1:,:]):\n",
    "    for j, value in enumerate(row[1:]):\n",
    "        k = 0\n",
    "        if row_string[i+1] != col_string[j+1]:\n",
    "            k = 1\n",
    "        new_value = min([\n",
    "            m[i+1, j] + 1, m[i, j] + k, m[i, j+1] + 1\n",
    "        ])\n",
    "        m[i+1, j+1] = new_value"
   ]
  },
  {
   "cell_type": "code",
   "execution_count": 30,
   "id": "50a16c05",
   "metadata": {},
   "outputs": [
    {
     "data": {
      "text/html": [
       "<div>\n",
       "<style scoped>\n",
       "    .dataframe tbody tr th:only-of-type {\n",
       "        vertical-align: middle;\n",
       "    }\n",
       "\n",
       "    .dataframe tbody tr th {\n",
       "        vertical-align: top;\n",
       "    }\n",
       "\n",
       "    .dataframe thead th {\n",
       "        text-align: right;\n",
       "    }\n",
       "</style>\n",
       "<table border=\"1\" class=\"dataframe\">\n",
       "  <thead>\n",
       "    <tr style=\"text-align: right;\">\n",
       "      <th></th>\n",
       "      <th>#</th>\n",
       "      <th>c</th>\n",
       "      <th>a</th>\n",
       "      <th>r</th>\n",
       "      <th>t</th>\n",
       "      <th>e</th>\n",
       "    </tr>\n",
       "  </thead>\n",
       "  <tbody>\n",
       "    <tr>\n",
       "      <th>#</th>\n",
       "      <td>0.0</td>\n",
       "      <td>1.0</td>\n",
       "      <td>2.0</td>\n",
       "      <td>3.0</td>\n",
       "      <td>4.0</td>\n",
       "      <td>5.0</td>\n",
       "    </tr>\n",
       "    <tr>\n",
       "      <th>c</th>\n",
       "      <td>1.0</td>\n",
       "      <td>0.0</td>\n",
       "      <td>1.0</td>\n",
       "      <td>2.0</td>\n",
       "      <td>3.0</td>\n",
       "      <td>4.0</td>\n",
       "    </tr>\n",
       "    <tr>\n",
       "      <th>a</th>\n",
       "      <td>2.0</td>\n",
       "      <td>1.0</td>\n",
       "      <td>0.0</td>\n",
       "      <td>1.0</td>\n",
       "      <td>2.0</td>\n",
       "      <td>3.0</td>\n",
       "    </tr>\n",
       "    <tr>\n",
       "      <th>n</th>\n",
       "      <td>3.0</td>\n",
       "      <td>2.0</td>\n",
       "      <td>1.0</td>\n",
       "      <td>1.0</td>\n",
       "      <td>2.0</td>\n",
       "      <td>3.0</td>\n",
       "    </tr>\n",
       "    <tr>\n",
       "      <th>e</th>\n",
       "      <td>4.0</td>\n",
       "      <td>3.0</td>\n",
       "      <td>2.0</td>\n",
       "      <td>2.0</td>\n",
       "      <td>2.0</td>\n",
       "      <td>2.0</td>\n",
       "    </tr>\n",
       "  </tbody>\n",
       "</table>\n",
       "</div>"
      ],
      "text/plain": [
       "     #    c    a    r    t    e\n",
       "#  0.0  1.0  2.0  3.0  4.0  5.0\n",
       "c  1.0  0.0  1.0  2.0  3.0  4.0\n",
       "a  2.0  1.0  0.0  1.0  2.0  3.0\n",
       "n  3.0  2.0  1.0  1.0  2.0  3.0\n",
       "e  4.0  3.0  2.0  2.0  2.0  2.0"
      ]
     },
     "execution_count": 30,
     "metadata": {},
     "output_type": "execute_result"
    }
   ],
   "source": [
    "show(m, a, b)"
   ]
  },
  {
   "cell_type": "markdown",
   "id": "96e6d09e",
   "metadata": {},
   "source": [
    "### Implement KMeans from scratch\n",
    "Try a naive implementation of [KMeans](https://en.wikipedia.org/wiki/K-means_clustering) "
   ]
  },
  {
   "cell_type": "code",
   "execution_count": 31,
   "id": "3ccc2373",
   "metadata": {},
   "outputs": [],
   "source": [
    "from sklearn.datasets import make_blobs"
   ]
  },
  {
   "cell_type": "code",
   "execution_count": 52,
   "id": "4bfbcc5f",
   "metadata": {},
   "outputs": [],
   "source": [
    "k = 3\n",
    "X, y = make_blobs(n_samples=100, \n",
    "                  centers=k, n_features=2, \n",
    "                  random_state=0, cluster_std=.4)"
   ]
  },
  {
   "cell_type": "code",
   "execution_count": 53,
   "id": "c065b752",
   "metadata": {},
   "outputs": [
    {
     "data": {
      "text/plain": [
       "(100, 2)"
      ]
     },
     "execution_count": 53,
     "metadata": {},
     "output_type": "execute_result"
    }
   ],
   "source": [
    "X.shape"
   ]
  },
  {
   "cell_type": "code",
   "execution_count": null,
   "id": "c4eb32cd",
   "metadata": {},
   "outputs": [],
   "source": []
  },
  {
   "cell_type": "code",
   "execution_count": 54,
   "id": "90e840c9",
   "metadata": {},
   "outputs": [
    {
     "data": {
      "text/plain": [
       "array([[2.28590385, 0.81434416],\n",
       "       [0.61808345, 4.45854833],\n",
       "       [2.43416831, 0.83565962]])"
      ]
     },
     "execution_count": 54,
     "metadata": {},
     "output_type": "execute_result"
    }
   ],
   "source": [
    "X[:3]"
   ]
  },
  {
   "cell_type": "code",
   "execution_count": 55,
   "id": "ca58f027",
   "metadata": {},
   "outputs": [],
   "source": [
    "import matplotlib.pyplot as plt"
   ]
  },
  {
   "cell_type": "code",
   "execution_count": 58,
   "id": "9714d250",
   "metadata": {},
   "outputs": [
    {
     "data": {
      "image/png": "[encoded data removed]",
      "text/plain": [
       "<Figure size 432x432 with 1 Axes>"
      ]
     },
     "metadata": {
      "needs_background": "light"
     },
     "output_type": "display_data"
    }
   ],
   "source": [
    "fig, ax = plt.subplots(figsize=(6, 6))\n",
    "ax.scatter(X[:,0], X[:,1])\n",
    "plt.tight_layout()\n",
    "plt.show()"
   ]
  },
  {
   "cell_type": "markdown",
   "id": "d869fb30",
   "metadata": {},
   "source": [
    "## Kmeans\n",
    "1. Inizializzazione: stabilire k centri casuali\n",
    "\n",
    "Ripeti:\n",
    "\n",
    "2. Assegniamo ogni punto al centro più vicino\n",
    "3. Spostare i centri verso il punto medio del cluster (formato al punto 2)\n",
    "4. Calcolare RSS\n",
    "\n",
    "### Strutture dati\n",
    "- Punti: matrice (num x num variabili)\n",
    "- Centri: matrice (k x num variabile)"
   ]
  },
  {
   "cell_type": "code",
   "execution_count": 142,
   "id": "1fda78e1",
   "metadata": {},
   "outputs": [],
   "source": [
    "C = np.random.randint(low=X.min(), \n",
    "                      high=X.max(), size=(k, 2))"
   ]
  },
  {
   "cell_type": "code",
   "execution_count": 143,
   "id": "37d3f4f4",
   "metadata": {},
   "outputs": [
    {
     "data": {
      "text/plain": [
       "array([[ 2, -1],\n",
       "       [ 3,  0],\n",
       "       [ 1,  2]])"
      ]
     },
     "execution_count": 143,
     "metadata": {},
     "output_type": "execute_result"
    }
   ],
   "source": [
    "C"
   ]
  },
  {
   "cell_type": "code",
   "execution_count": 144,
   "id": "207e3c62",
   "metadata": {},
   "outputs": [
    {
     "data": {
      "image/png": "[encoded data removed]",
      "text/plain": [
       "<Figure size 432x432 with 1 Axes>"
      ]
     },
     "metadata": {
      "needs_background": "light"
     },
     "output_type": "display_data"
    }
   ],
   "source": [
    "fig, ax = plt.subplots(figsize=(6, 6))\n",
    "ax.scatter(X[:,0], X[:,1])\n",
    "ax.scatter(C[:,0], C[:,1])\n",
    "plt.tight_layout()\n",
    "plt.show()"
   ]
  },
  {
   "cell_type": "code",
   "execution_count": 145,
   "id": "8eb1ab07",
   "metadata": {},
   "outputs": [],
   "source": [
    "dist = lambda x, y: np.linalg.norm(x-y)"
   ]
  },
  {
   "cell_type": "code",
   "execution_count": 153,
   "id": "fac4bea6",
   "metadata": {},
   "outputs": [],
   "source": [
    "assignment = []\n",
    "for point in X:\n",
    "    distances = []\n",
    "    for c in C:\n",
    "        delta = dist(point, c)\n",
    "        distances.append(delta)\n",
    "    assignment.append(np.argmin(np.array(distances)))"
   ]
  },
  {
   "cell_type": "code",
   "execution_count": 154,
   "id": "fb6b9121",
   "metadata": {},
   "outputs": [
    {
     "data": {
      "image/png": "[encoded data removed]",
      "text/plain": [
       "<Figure size 432x432 with 1 Axes>"
      ]
     },
     "metadata": {
      "needs_background": "light"
     },
     "output_type": "display_data"
    }
   ],
   "source": [
    "fig, ax = plt.subplots(figsize=(6, 6))\n",
    "ax.scatter(X[:,0], X[:,1], c=assignment)\n",
    "ax.scatter(C[:,0], C[:,1])\n",
    "plt.tight_layout()\n",
    "plt.show()"
   ]
  },
  {
   "cell_type": "code",
   "execution_count": 155,
   "id": "d3b8c61b",
   "metadata": {},
   "outputs": [],
   "source": [
    "Xdf = pd.DataFrame(X)\n",
    "Xdf['cluster'] = assignment"
   ]
  },
  {
   "cell_type": "code",
   "execution_count": 156,
   "id": "804d28cb",
   "metadata": {},
   "outputs": [],
   "source": [
    "for i, row in Xdf.groupby('cluster').mean().iterrows():\n",
    "    C[i] = row.values"
   ]
  },
  {
   "cell_type": "code",
   "execution_count": 157,
   "id": "61109869",
   "metadata": {},
   "outputs": [
    {
     "data": {
      "text/plain": [
       "array([[ 2, -1],\n",
       "       [ 2,  1],\n",
       "       [ 0,  3]])"
      ]
     },
     "execution_count": 157,
     "metadata": {},
     "output_type": "execute_result"
    }
   ],
   "source": [
    "C"
   ]
  },
  {
   "cell_type": "code",
   "execution_count": 158,
   "id": "73a7192d",
   "metadata": {},
   "outputs": [],
   "source": [
    "RSS = 0\n",
    "for cluster in range(k):\n",
    "    c = C[cluster]\n",
    "    subset = Xdf[Xdf.cluster==cluster]\n",
    "    partial_sum = 0\n",
    "    for i, row in subset.iterrows():\n",
    "        delta = dist(c, row.values[:2])\n",
    "        partial_sum += delta\n",
    "    RSS += partial_sum"
   ]
  },
  {
   "cell_type": "code",
   "execution_count": 159,
   "id": "852efebe",
   "metadata": {},
   "outputs": [
    {
     "data": {
      "text/plain": [
       "124.76066739857654"
      ]
     },
     "execution_count": 159,
     "metadata": {},
     "output_type": "execute_result"
    }
   ],
   "source": [
    "RSS"
   ]
  },
  {
   "cell_type": "code",
   "execution_count": 160,
   "id": "9275f07b",
   "metadata": {},
   "outputs": [],
   "source": [
    "from sklearn.cluster import KMeans"
   ]
  },
  {
   "cell_type": "code",
   "execution_count": 161,
   "id": "4f8a4c1b",
   "metadata": {},
   "outputs": [],
   "source": [
    "kmean = KMeans(n_clusters=k)\n",
    "kmean.fit(X)\n",
    "assignment = kmean.predict(X)"
   ]
  },
  {
   "cell_type": "code",
   "execution_count": 162,
   "id": "98ed1594",
   "metadata": {},
   "outputs": [
    {
     "data": {
      "image/png": "[encoded data removed]",
      "text/plain": [
       "<Figure size 432x432 with 1 Axes>"
      ]
     },
     "metadata": {
      "needs_background": "light"
     },
     "output_type": "display_data"
    }
   ],
   "source": [
    "fig, ax = plt.subplots(figsize=(6, 6))\n",
    "ax.scatter(X[:,0], X[:,1], c=assignment)\n",
    "plt.tight_layout()\n",
    "plt.show()"
   ]
  },
  {
   "cell_type": "code",
   "execution_count": null,
   "id": "3cbcc94e",
   "metadata": {},
   "outputs": [],
   "source": []
  }
 ],
 "metadata": {
  "kernelspec": {
   "display_name": "crike",
   "language": "python",
   "name": "crike"
  },
  "language_info": {
   "codemirror_mode": {
    "name": "ipython",
    "version": 3
   },
   "file_extension": ".py",
   "mimetype": "text/x-python",
   "name": "python",
   "nbconvert_exporter": "python",
   "pygments_lexer": "ipython3",
   "version": "3.8.8"
  },
  "toc": {
   "base_numbering": 1,
   "nav_menu": {},
   "number_sections": true,
   "sideBar": true,
   "skip_h1_title": false,
   "title_cell": "Table of Contents",
   "title_sidebar": "Contents",
   "toc_cell": false,
   "toc_position": {},
   "toc_section_display": true,
   "toc_window_display": false
  }
 },
 "nbformat": 4,
 "nbformat_minor": 5
}
