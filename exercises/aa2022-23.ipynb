{
 "cells": [
  {
   "cell_type": "markdown",
   "id": "88846f7d",
   "metadata": {},
   "source": [
    "# Esercitazione"
   ]
  },
  {
   "cell_type": "code",
   "execution_count": 1,
   "id": "9725e7e5",
   "metadata": {},
   "outputs": [],
   "source": [
    "import pandas as pd\n",
    "import numpy as np\n",
    "from tqdm.notebook import tqdm"
   ]
  },
  {
   "cell_type": "markdown",
   "id": "dbb2eb36",
   "metadata": {},
   "source": [
    "## Comprensione del codice"
   ]
  },
  {
   "cell_type": "markdown",
   "id": "d41d1948",
   "metadata": {},
   "source": [
    "### Esercizio 1"
   ]
  },
  {
   "cell_type": "code",
   "execution_count": 2,
   "id": "dd0903be",
   "metadata": {},
   "outputs": [],
   "source": [
    "a, b = [4, 8, 12, 16], [3, 2, 6]\n",
    "out = np.zeros((len(a), len(b)))\n",
    "for i, v_a in enumerate(a):\n",
    "    for j, v_b in enumerate(b):\n",
    "        if v_a % v_b == 0:\n",
    "            out[i,j] = 1\n",
    "# print(out)"
   ]
  },
  {
   "cell_type": "markdown",
   "id": "af44ef83",
   "metadata": {},
   "source": [
    "### Esercizio 2"
   ]
  },
  {
   "cell_type": "code",
   "execution_count": 3,
   "id": "2fb52356",
   "metadata": {},
   "outputs": [],
   "source": [
    "class A:\n",
    "    def __init__(self, x):\n",
    "        self.x = x\n",
    "    def execute(self):\n",
    "        return np.power(self.x, 2)\n",
    "class B(A):\n",
    "    def execute(self):\n",
    "        return np.power(self.x, 4)\n",
    "a, b = A(3), B(2)\n",
    "# print(a.execute() - b.execute())"
   ]
  },
  {
   "cell_type": "markdown",
   "id": "3ed6e07b",
   "metadata": {},
   "source": [
    "### Esercizio 3"
   ]
  },
  {
   "cell_type": "code",
   "execution_count": 4,
   "id": "732cecd0",
   "metadata": {},
   "outputs": [],
   "source": [
    "a = {'x': lambda x: 2*x, 'y': lambda y: y / 2}\n",
    "k = [a['x'](i) - a['y'](i) for i in range(4)]\n",
    "# print(k)"
   ]
  },
  {
   "cell_type": "markdown",
   "id": "2b5a31d4",
   "metadata": {},
   "source": [
    "## Programmazione\n",
    "\n",
    "### Fibonacci\n",
    "Definire un programma iterativo che generi la serie di Fibonacci fino a un valore $N$.\n",
    "\n",
    "Se ricorda che la struttura generale della serie è:\n",
    "\n",
    "$$\n",
    "f_n = f_{n-1} + f_{n-2}\n",
    "$$\n",
    "\n",
    "Mostrare poi in un grafico la funzione generata dalla serie e la sua cumulata"
   ]
  },
  {
   "cell_type": "code",
   "execution_count": null,
   "id": "2497e5e3",
   "metadata": {},
   "outputs": [],
   "source": []
  },
  {
   "cell_type": "markdown",
   "id": "68c5559c",
   "metadata": {},
   "source": [
    "### Edit Distance\n",
    "**Problema:** date due stringhe $a$ e $b$, individuare una strategia per calcolare il numero minimo di operazioni necessario a trasformare $a$ in $b$, avendo come possibili operazioni l'inserimento di un carattere, la cancellazione di un carattere, e la sostituzione di un carattere.\n",
    "\n",
    "<table>\n",
    "    <tr><td></td><td>#</td><td>c</td><td>a</td><td>s</td><td>t</td><td>o</td></tr>\n",
    "    <tr><td>#</td><td>0</td><td>1</td><td>2</td><td>3</td><td>4</td><td>5</td></tr>\n",
    "    <tr><td>c</td><td>1</td><td></td><td></td><td></td><td></td><td></td></tr>\n",
    "    <tr><td>a</td><td>2</td><td></td><td></td><td></td><td></td><td></td></tr>\n",
    "    <tr><td>s</td><td>3</td><td></td><td></td><td></td><td></td><td></td></tr>\n",
    "    <tr><td>a</td><td>4</td><td></td><td></td><td></td><td></td><td></td></tr>\n",
    "</table>\n",
    "\n",
    "$E(i, j) = \\min \\{E(i-1, j) + 1; E(i, j-1) + 1; E(i-1,i-1) + k\\}$, where \n",
    "\n",
    "$$\n",
    "k = \\left \\{ \\begin{matrix}\n",
    "    1 & if\\ s_1(i) \\neq s_2(j)\\\\\n",
    "    0 & otherwise \n",
    "    \\end{matrix}\n",
    "    \\right .\n",
    "$$"
   ]
  },
  {
   "cell_type": "markdown",
   "id": "96e6d09e",
   "metadata": {},
   "source": [
    "### Implement KMeans from scratch\n",
    "Try a naive implementation of [KMeans](https://en.wikipedia.org/wiki/K-means_clustering) "
   ]
  },
  {
   "cell_type": "code",
   "execution_count": 5,
   "id": "3ccc2373",
   "metadata": {},
   "outputs": [],
   "source": [
    "from sklearn.datasets import make_blobs"
   ]
  },
  {
   "cell_type": "code",
   "execution_count": 24,
   "id": "4bfbcc5f",
   "metadata": {},
   "outputs": [],
   "source": [
    "k = 3\n",
    "X, y = make_blobs(n_samples=100, centers=k, n_features=2, random_state=0, cluster_std=.4)"
   ]
  },
  {
   "cell_type": "code",
   "execution_count": 25,
   "id": "90e840c9",
   "metadata": {},
   "outputs": [
    {
     "data": {
      "text/plain": [
       "array([[2.28590385, 0.81434416],\n",
       "       [0.61808345, 4.45854833],\n",
       "       [2.43416831, 0.83565962]])"
      ]
     },
     "execution_count": 25,
     "metadata": {},
     "output_type": "execute_result"
    }
   ],
   "source": [
    "X[:3]"
   ]
  },
  {
   "cell_type": "code",
   "execution_count": 26,
   "id": "ca58f027",
   "metadata": {},
   "outputs": [],
   "source": [
    "import matplotlib.pyplot as plt"
   ]
  },
  {
   "cell_type": "code",
   "execution_count": 27,
   "id": "9714d250",
   "metadata": {},
   "outputs": [
    {
     "data": {
      "image/png": "[encoded data removed]",
      "text/plain": [
       "<Figure size 432x432 with 1 Axes>"
      ]
     },
     "metadata": {
      "needs_background": "light"
     },
     "output_type": "display_data"
    }
   ],
   "source": [
    "fig, ax = plt.subplots(figsize=(6, 6))\n",
    "ax.scatter(X[:,0], X[:,1], c=y)\n",
    "plt.tight_layout()\n",
    "plt.show()"
   ]
  },
  {
   "cell_type": "code",
   "execution_count": null,
   "id": "e0a88428",
   "metadata": {},
   "outputs": [],
   "source": []
  }
 ],
 "metadata": {
  "kernelspec": {
   "display_name": "crike",
   "language": "python",
   "name": "crike"
  },
  "language_info": {
   "codemirror_mode": {
    "name": "ipython",
    "version": 3
   },
   "file_extension": ".py",
   "mimetype": "text/x-python",
   "name": "python",
   "nbconvert_exporter": "python",
   "pygments_lexer": "ipython3",
   "version": "3.8.8"
  },
  "toc": {
   "base_numbering": 1,
   "nav_menu": {},
   "number_sections": true,
   "sideBar": true,
   "skip_h1_title": false,
   "title_cell": "Table of Contents",
   "title_sidebar": "Contents",
   "toc_cell": false,
   "toc_position": {},
   "toc_section_display": true,
   "toc_window_display": false
  }
 },
 "nbformat": 4,
 "nbformat_minor": 5
}
